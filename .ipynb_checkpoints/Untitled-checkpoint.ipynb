{
 "cells": [
  {
   "cell_type": "markdown",
   "metadata": {},
   "source": [
    "마우스 클릭(이벤트)로 그림 그리기      \n",
    "-> CallBacks를 이용함으로써 event function과 image가 바로 연결, 상호작용할 수 있도록 한다."
   ]
  },
  {
   "cell_type": "code",
   "execution_count": 2,
   "metadata": {},
   "outputs": [],
   "source": [
    "# 하나의 셀에서 실행되어야 한다.\n",
    "\n",
    "import cv2\n",
    "import numpy as np\n",
    "\n",
    "\n",
    "\n",
    "def draw_circle(event, x, y, flags, param):    # MouseCallback을 설정할 때, 이 parameter들은 자동으로 호출되어 입력됨.\n",
    "    if event == cv2.EVENT_LBUTTONDOWN:\n",
    "        cv2.circle(img, (x,y), 100, (0,255,0), -1)\n",
    "\n",
    "cv2.namedWindow(winname='my_drawing')     # 'my_drawing'이라는 이미지의 창 생성\n",
    "\n",
    "cv2.setMouseCallback('my_drawing', draw_circle)    # 함수를 창 이름 'my_drawing'을 통해 이미지와 연결하는 Callback\n",
    "\n",
    "# Showing Image\n",
    "img = np.zeros((512,512,3))\n",
    "\n",
    "while True:\n",
    "    cv2.imshow('my_drawing', img)\n",
    "    if cv2.waitKey(20) & 0xFF == 27:\n",
    "        break\n",
    "        \n",
    "cv2.destroyAllWindows()"
   ]
  },
  {
   "cell_type": "code",
   "execution_count": null,
   "metadata": {},
   "outputs": [],
   "source": []
  }
 ],
 "metadata": {
  "kernelspec": {
   "display_name": "Python 3",
   "language": "python",
   "name": "python3"
  },
  "language_info": {
   "codemirror_mode": {
    "name": "ipython",
    "version": 3
   },
   "file_extension": ".py",
   "mimetype": "text/x-python",
   "name": "python",
   "nbconvert_exporter": "python",
   "pygments_lexer": "ipython3",
   "version": "3.6.6"
  }
 },
 "nbformat": 4,
 "nbformat_minor": 2
}
